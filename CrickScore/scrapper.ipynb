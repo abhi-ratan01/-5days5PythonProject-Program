{
 "cells": [
  {
   "cell_type": "markdown",
   "metadata": {},
   "source": [
    "#### Three things\n",
    "* Creating GUI\n",
    "* Web scraping from cricbuzz to get all the score -> make http request and parse the web content\n",
    "* display the live match update on our app"
   ]
  },
  {
   "cell_type": "code",
   "execution_count": 1,
   "metadata": {},
   "outputs": [
    {
     "name": "stdout",
     "output_type": "stream",
     "text": [
      "Requirement already satisfied: Pillow in c:\\users\\dell\\appdata\\local\\packages\\pythonsoftwarefoundation.python.3.9_qbz5n2kfra8p0\\localcache\\local-packages\\python39\\site-packages (9.3.0)\n",
      "Note: you may need to restart the kernel to use updated packages.\n"
     ]
    },
    {
     "name": "stderr",
     "output_type": "stream",
     "text": [
      "\n",
      "[notice] A new release of pip available: 22.3.1 -> 23.3.1\n",
      "[notice] To update, run: C:\\Users\\DELL\\AppData\\Local\\Microsoft\\WindowsApps\\PythonSoftwareFoundation.Python.3.9_qbz5n2kfra8p0\\python.exe -m pip install --upgrade pip\n"
     ]
    }
   ],
   "source": [
    "pip install Pillow"
   ]
  },
  {
   "cell_type": "code",
   "execution_count": 3,
   "metadata": {},
   "outputs": [
    {
     "name": "stdout",
     "output_type": "stream",
     "text": [
      "Requirement already satisfied: requests in c:\\users\\dell\\appdata\\local\\packages\\pythonsoftwarefoundation.python.3.9_qbz5n2kfra8p0\\localcache\\local-packages\\python39\\site-packages (2.28.1)\n",
      "Requirement already satisfied: charset-normalizer<3,>=2 in c:\\users\\dell\\appdata\\local\\packages\\pythonsoftwarefoundation.python.3.9_qbz5n2kfra8p0\\localcache\\local-packages\\python39\\site-packages (from requests) (2.1.0)\n",
      "Requirement already satisfied: certifi>=2017.4.17 in c:\\users\\dell\\appdata\\local\\packages\\pythonsoftwarefoundation.python.3.9_qbz5n2kfra8p0\\localcache\\local-packages\\python39\\site-packages (from requests) (2022.6.15)\n",
      "Requirement already satisfied: idna<4,>=2.5 in c:\\users\\dell\\appdata\\local\\packages\\pythonsoftwarefoundation.python.3.9_qbz5n2kfra8p0\\localcache\\local-packages\\python39\\site-packages (from requests) (3.3)\n",
      "Requirement already satisfied: urllib3<1.27,>=1.21.1 in c:\\users\\dell\\appdata\\local\\packages\\pythonsoftwarefoundation.python.3.9_qbz5n2kfra8p0\\localcache\\local-packages\\python39\\site-packages (from requests) (1.26.10)\n",
      "Note: you may need to restart the kernel to use updated packages.\n"
     ]
    },
    {
     "name": "stderr",
     "output_type": "stream",
     "text": [
      "\n",
      "[notice] A new release of pip available: 22.3.1 -> 23.3.1\n",
      "[notice] To update, run: C:\\Users\\DELL\\AppData\\Local\\Microsoft\\WindowsApps\\PythonSoftwareFoundation.Python.3.9_qbz5n2kfra8p0\\python.exe -m pip install --upgrade pip\n"
     ]
    }
   ],
   "source": [
    "pip install requests"
   ]
  },
  {
   "cell_type": "code",
   "execution_count": 4,
   "metadata": {},
   "outputs": [
    {
     "name": "stdout",
     "output_type": "stream",
     "text": [
      "Requirement already satisfied: bs4 in c:\\users\\dell\\appdata\\local\\packages\\pythonsoftwarefoundation.python.3.9_qbz5n2kfra8p0\\localcache\\local-packages\\python39\\site-packages (0.0.1)Note: you may need to restart the kernel to use updated packages.\n",
      "\n",
      "Requirement already satisfied: beautifulsoup4 in c:\\users\\dell\\appdata\\local\\packages\\pythonsoftwarefoundation.python.3.9_qbz5n2kfra8p0\\localcache\\local-packages\\python39\\site-packages (from bs4) (4.11.1)\n",
      "Requirement already satisfied: soupsieve>1.2 in c:\\users\\dell\\appdata\\local\\packages\\pythonsoftwarefoundation.python.3.9_qbz5n2kfra8p0\\localcache\\local-packages\\python39\\site-packages (from beautifulsoup4->bs4) (2.3.2.post1)\n"
     ]
    },
    {
     "name": "stderr",
     "output_type": "stream",
     "text": [
      "\n",
      "[notice] A new release of pip available: 22.3.1 -> 23.3.1\n",
      "[notice] To update, run: C:\\Users\\DELL\\AppData\\Local\\Microsoft\\WindowsApps\\PythonSoftwareFoundation.Python.3.9_qbz5n2kfra8p0\\python.exe -m pip install --upgrade pip\n"
     ]
    }
   ],
   "source": [
    "pip install bs4"
   ]
  },
  {
   "cell_type": "code",
   "execution_count": 12,
   "metadata": {},
   "outputs": [],
   "source": [
    "## importing necessary libraries or modules\n",
    "from tkinter import *\n",
    "from tkinter.ttk import Combobox\n",
    "from PIL import ImageTk\t\t\t\t# for adding background image to our gui"
   ]
  },
  {
   "cell_type": "code",
   "execution_count": 13,
   "metadata": {},
   "outputs": [],
   "source": [
    "import requests                  # for making http request to a web page\n",
    "from bs4 import BeautifulSoup    # for parsing html web pages\n",
    "import re                        # for string matching (finding the team name from string)\n"
   ]
  },
  {
   "cell_type": "code",
   "execution_count": 16,
   "metadata": {},
   "outputs": [],
   "source": [
    "class CricketScore:\n",
    "\n",
    "    # creating a constructor\n",
    "    # self is basically trying to represent the instance of that class\n",
    "    def __init__(self, rootWindow):\n",
    "        self.rootWindow=rootWindow\n",
    "        self.rootWindow.title('LIVE CRICKET SCORE')\n",
    "        self.rootWindow.geometry('640x359')\n",
    "        self.bg=ImageTk.PhotoImage(file='bg.jpg')\n",
    "        bg=Label(self.rootWindow,image=self.bg).place(x=0,y=0)\n",
    "\n",
    "\n",
    "        # let's give label to my gui\n",
    "        self.label=Label(self.rootWindow, text='Live Matches', font=(\"times new roman\",30), compound=\"center\").pack(padx=5,pady=5)\n"
   ]
  },
  {
   "cell_type": "code",
   "execution_count": 15,
   "metadata": {},
   "outputs": [
    {
     "ename": "NameError",
     "evalue": "name 'self' is not defined",
     "output_type": "error",
     "traceback": [
      "\u001b[1;31m---------------------------------------------------------------------------\u001b[0m",
      "\u001b[1;31mNameError\u001b[0m                                 Traceback (most recent call last)",
      "\u001b[1;32me:\\PYTHON\\CricScore-main\\scrapper.ipynb Cell 8\u001b[0m line \u001b[0;36m2\n\u001b[0;32m      <a href='vscode-notebook-cell:/e%3A/PYTHON/CricScore-main/scrapper.ipynb#X13sZmlsZQ%3D%3D?line=0'>1</a>\u001b[0m \u001b[39m# let's give label to my gui\u001b[39;00m\n\u001b[1;32m----> <a href='vscode-notebook-cell:/e%3A/PYTHON/CricScore-main/scrapper.ipynb#X13sZmlsZQ%3D%3D?line=1'>2</a>\u001b[0m \u001b[39mself\u001b[39m\u001b[39m.\u001b[39mlabel\u001b[39m=\u001b[39mLabel(\u001b[39mself\u001b[39;49m\u001b[39m.\u001b[39mrootWindow, text\u001b[39m=\u001b[39m\u001b[39m'\u001b[39m\u001b[39mLive Matches\u001b[39m\u001b[39m'\u001b[39m, font\u001b[39m=\u001b[39m(\u001b[39m\"\u001b[39m\u001b[39mtimes new roman\u001b[39m\u001b[39m\"\u001b[39m,\u001b[39m30\u001b[39m), compound\u001b[39m=\u001b[39m\u001b[39m\"\u001b[39m\u001b[39mcenter\u001b[39m\u001b[39m\"\u001b[39m)\u001b[39m.\u001b[39mpack(padx\u001b[39m=\u001b[39m\u001b[39m5\u001b[39m,pady\u001b[39m=\u001b[39m\u001b[39m5\u001b[39m)\n",
      "\u001b[1;31mNameError\u001b[0m: name 'self' is not defined"
     ]
    }
   ],
   "source": []
  },
  {
   "cell_type": "code",
   "execution_count": null,
   "metadata": {},
   "outputs": [],
   "source": [
    "\n",
    "        # fetch the live match details and update it in GUI\n",
    "        self.var=StringVar()\n",
    "        self.matches=self.match_details()   # we dump all the match data\n",
    "        self.data=[i for i in self.matches.keys()]\n",
    "        self.cb=Combobox(self.rootWindow,values=self.data,width=50)\n",
    "        self.cb.place(x=150,y=90)\n",
    "\n",
    "        # button to check the details of match\n",
    "        self.b1=Button(self.rootWindow,text='Check Results', font=('times new roman',15), command=self.show_match_details).place(x=230,y=120)\n",
    "\n",
    "\n",
    "    # creating command for check score button\n",
    "    def select(self):\n",
    "        return self.cb.get()\n",
    "\n",
    "\n",
    "    # function to scrap the cricbuzz\n",
    "    def scrap(self):\n",
    "        url='https://www.cricbuzz.com/'\n",
    "        page=requests.get(url)    # fetch all the html content of that url\n",
    "        # parse this response and fetch the relevant data\n",
    "        # jisme hm interested h us section ka content nikalna h\n",
    "        # we did using html div tags and each div have its own identifier\n",
    "        soup=BeautifulSoup(page.content,'html.parser')\n",
    "        results=soup.find(id='match_menu_container')   # list of scorecards\n",
    "        scrap_results=results.find_all('li',class_='cb-match-card')\n",
    "        # here we get all the scorecards\n",
    "        return scrap_results\n",
    "\n",
    "\n",
    "    # we use self in this to recognize it as the function belong to this class\n",
    "    # in this function we will load all the matches details\n",
    "    def match_details(self):\n",
    "\n",
    "        # scrap the data\n",
    "        details=self.scrap()\n",
    "\n",
    "        # parse the relvant data\n",
    "        live_match={}\n",
    "        # iterate over each score card and find the details of each match and store it\n",
    "        for match in details:\n",
    "            live_team_details={}\n",
    "            summary=self.match_summary(match)\n",
    "            if summary is not None:\n",
    "                match_header=self.match_header(match).text\n",
    "                teams=self.teams_name(match)\n",
    "                scores=self.teams_score(match)\n",
    "                live_team_details['summary']=summary.text\n",
    "                live_team_details['match_header']=match_header\n",
    "                live_team_details['scorecard']=scores[0]+' :: '+scores[1]\n",
    "                live_match[teams[0]+' vs '+teams[1]]=live_team_details\n",
    "\n",
    "        return live_match\n",
    "\n",
    "\n",
    "    def match_summary(self,match):\n",
    "        return match.find('div',class_='cb-mtch-crd-state')\n",
    "\n",
    "\n",
    "    def match_header(self,match):\n",
    "        return match.find('div',class_='cb-mtch-crd-hdr')\n",
    "\n",
    "\n",
    "    def teams_name(self,match):\n",
    "        names=[]\n",
    "        team1=match.find('div',class_='cb-hmscg-bat-txt').text\n",
    "        # find the index at which team1 name ends\n",
    "        team1_index=re.search(r\"\\d\",team1).start() if re.search(r\"\\d\",team1) else len(team1)\n",
    "        team2=match.find('div',class_='cb-hmscg-bwl-txt').text\n",
    "        # find the index at which team2 name ends\n",
    "        team2_index=re.search(r\"\\d\",team2).start() if re.search(r\"\\d\",team2) else len(team2)\n",
    "        names.append(team1[:team1_index])\n",
    "        names.append(team2[:team2_index])\n",
    "        return names\n",
    "\n",
    "\n",
    "    def teams_score(self,match):\n",
    "        scores=[]\n",
    "        team1=match.find('div',class_='cb-hmscg-bat-txt').text\n",
    "        team2=match.find('div',class_='cb-hmscg-bwl-txt').text\n",
    "        scores.append(team1)\n",
    "        scores.append(team2)\n",
    "        return scores\n",
    "\n",
    "\n",
    "    # Show match details\n",
    "    def show_match_details(self):\n",
    "\n",
    "        # Building the match detail frame\n",
    "        self.frame1=Frame(self.rootWindow,bg='#ADD8E6')\n",
    "        self.frame1.place(x=20,y=180,width=600,height=150)\n",
    "\n",
    "        # fetching details of the match\n",
    "        x=self.matches[self.select()]\n",
    "\n",
    "        # displaying details of match\n",
    "        Label(self.frame1, text=self.select() + \" - \" + x['match_header'],font=(\"times new roman\",15,\"bold\"),bg=\"#ADD8E6\",fg=\"red\",bd=0).place(x=50, y=15)\n",
    "\n",
    "        # Displaying details of the match\n",
    "        Label(self.frame1,text=\"Score Details : \",font=(\"times new roman\",10,\"bold\"),bg=\"#ADD8E6\",fg=\"black\",bd=0).place(x=10, y=40)\n",
    "        Label(self.frame1,text=x['scorecard'],font=(\"times new roman\", 10, \"bold\"),bg=\"#ADD8E6\",fg=\"black\",bd=0).place(x=20, y=60)\n",
    "        Label(self.frame1,text=\"Summary : \",font=(\"times new roman\", 10, \"bold\"),bg=\"#ADD8E6\",fg=\"black\",bd=0).place(x=10, y=100)\n",
    "        Label(self.frame1,text=x['summary'],font=(\"times new roman\", 10, \"bold\"),bg=\"#ADD8E6\",fg=\"black\",bd=0).place(x=20, y=120)\n"
   ]
  },
  {
   "cell_type": "code",
   "execution_count": 17,
   "metadata": {},
   "outputs": [],
   "source": [
    "# main function to start the app\n",
    "def main():\n",
    "    # start the gui window\n",
    "\n",
    "    # create an object of Tkinter class\n",
    "    rootWindow=Tk()\n",
    "\n",
    "    #fetch the cricket score from cricbuzz\n",
    "    obj=CricketScore(rootWindow)\n",
    "\n",
    "    # keep on displaying the gui window to fetch the updates\n",
    "    rootWindow.mainloop()              # mainloop means run continuously\n",
    "\n",
    "\n",
    "# execute the file\n",
    "# if name=main is used to strictly check that the main function run from same file where it is define means it can't import from other file\n",
    "if __name__=='__main__':\n",
    "    main()"
   ]
  },
  {
   "cell_type": "code",
   "execution_count": null,
   "metadata": {},
   "outputs": [],
   "source": []
  },
  {
   "cell_type": "code",
   "execution_count": null,
   "metadata": {},
   "outputs": [],
   "source": []
  }
 ],
 "metadata": {
  "kernelspec": {
   "display_name": "Python 3",
   "language": "python",
   "name": "python3"
  },
  "language_info": {
   "codemirror_mode": {
    "name": "ipython",
    "version": 3
   },
   "file_extension": ".py",
   "mimetype": "text/x-python",
   "name": "python",
   "nbconvert_exporter": "python",
   "pygments_lexer": "ipython3",
   "version": "3.9.13"
  }
 },
 "nbformat": 4,
 "nbformat_minor": 2
}
